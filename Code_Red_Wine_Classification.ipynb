{
  "cells": [
    {
      "cell_type": "markdown",
      "metadata": {
        "id": "view-in-github",
        "colab_type": "text"
      },
      "source": [
        "<a href=\"https://colab.research.google.com/github/Taweilo/Red_Wine_Quality_Classification_Model/blob/main/Code_Red_Wine_Classification.ipynb\" target=\"_parent\"><img src=\"https://colab.research.google.com/assets/colab-badge.svg\" alt=\"Open In Colab\"/></a>"
      ]
    },
    {
      "cell_type": "markdown",
      "id": "43cc272b",
      "metadata": {
        "id": "43cc272b"
      },
      "source": [
        "# Red Wine Quality Classification / Prediction Project"
      ]
    },
    {
      "cell_type": "markdown",
      "id": "e4705bb3",
      "metadata": {
        "id": "e4705bb3"
      },
      "source": [
        "![Red Wine](https://learn.wineenthusiast.com/wp-content/uploads/2019/09/HeaderImage.svg)"
      ]
    },
    {
      "cell_type": "markdown",
      "id": "9fd8edfc",
      "metadata": {
        "id": "9fd8edfc"
      },
      "source": [
        "## 1. Business Understanding"
      ]
    },
    {
      "cell_type": "markdown",
      "id": "5a03a064",
      "metadata": {
        "id": "5a03a064"
      },
      "source": [
        "This project will follow the BA workflow to tackle red wine business issues using data mining techniques. A red wine retailer import wine and sell it to customers. Thus, it needs to predict the wine quality for the business. Via machine learning technique, we can classify and predict the quality. Evaluating the model performance, we can further make better decisions and thus maximize the profits."
      ]
    },
    {
      "cell_type": "markdown",
      "id": "ba763670",
      "metadata": {
        "id": "ba763670"
      },
      "source": [
        "### Importing all the libraries"
      ]
    },
    {
      "cell_type": "code",
      "execution_count": null,
      "id": "82d75eb0",
      "metadata": {
        "id": "82d75eb0"
      },
      "outputs": [],
      "source": [
        "import pandas as pd\n",
        "import numpy as np\n",
        "import matplotlib.pyplot as plt\n",
        "import matplotlib.dates as mdates\n",
        "import seaborn as sns\n",
        "\n",
        "from sklearn.preprocessing import scale\n",
        "from sklearn.linear_model import SGDClassifier\n",
        "from sklearn.preprocessing import StandardScaler, LabelEncoder, normalize\n",
        "from sklearn.model_selection import train_test_split, GridSearchCV, cross_val_score\n",
        "%matplotlib inline\n",
        "\n",
        "from sklearn.svm import SVC\n",
        "from sklearn.metrics import accuracy_score\n",
        "from sklearn.metrics import confusion_matrix\n",
        "from sklearn.metrics import ConfusionMatrixDisplay\n",
        "from sklearn.metrics import roc_auc_score\n",
        "from sklearn.linear_model import LogisticRegression\n",
        "from sklearn.neighbors import KNeighborsClassifier\n",
        "from sklearn.metrics import accuracy_score\n",
        "from sklearn.tree import DecisionTreeClassifier\n",
        "from sklearn.model_selection import cross_val_score\n",
        "from sklearn.ensemble import RandomForestClassifier\n",
        "from pprint import pprint\n",
        "from sklearn.model_selection import RandomizedSearchCV\n",
        "from sklearn.ensemble import RandomForestRegressor\n",
        "from pprint import pprint\n",
        "from sklearn.model_selection import GridSearchCV\n",
        "from sklearn.model_selection import RandomizedSearchCV\n",
        "from sklearn.ensemble import RandomForestRegressor\n",
        "from pprint import pprint\n",
        "from sklearn.model_selection import GridSearchCV\n",
        "from sklearn.model_selection import RandomizedSearchCV\n",
        "from sklearn.ensemble import AdaBoostClassifier\n"
      ]
    },
    {
      "cell_type": "markdown",
      "id": "f8da9d9e",
      "metadata": {
        "id": "f8da9d9e"
      },
      "source": [
        "#### Ignore Warning"
      ]
    },
    {
      "cell_type": "code",
      "execution_count": null,
      "id": "042ca133",
      "metadata": {
        "id": "042ca133"
      },
      "outputs": [],
      "source": [
        "import warnings\n",
        "warnings.simplefilter(\"ignore\")"
      ]
    },
    {
      "cell_type": "markdown",
      "id": "8d1fab6c",
      "metadata": {
        "id": "8d1fab6c"
      },
      "source": [
        "## 2. Data Understanding"
      ]
    },
    {
      "cell_type": "markdown",
      "id": "78e14b1b",
      "metadata": {
        "id": "78e14b1b"
      },
      "source": [
        "### 2.1 Loading the data\n",
        "Wine Quality Data: https://www.kaggle.com/datasets/yasserh/wine-quality-dataset?resource=download"
      ]
    },
    {
      "cell_type": "code",
      "execution_count": null,
      "id": "402c5e66",
      "metadata": {
        "id": "402c5e66",
        "outputId": "3c803358-94b1-4981-9ed4-fc4a89945722"
      },
      "outputs": [
        {
          "data": {
            "text/html": [
              "<div>\n",
              "<style scoped>\n",
              "    .dataframe tbody tr th:only-of-type {\n",
              "        vertical-align: middle;\n",
              "    }\n",
              "\n",
              "    .dataframe tbody tr th {\n",
              "        vertical-align: top;\n",
              "    }\n",
              "\n",
              "    .dataframe thead th {\n",
              "        text-align: right;\n",
              "    }\n",
              "</style>\n",
              "<table border=\"1\" class=\"dataframe\">\n",
              "  <thead>\n",
              "    <tr style=\"text-align: right;\">\n",
              "      <th></th>\n",
              "      <th>fixed acidity</th>\n",
              "      <th>volatile acidity</th>\n",
              "      <th>citric acid</th>\n",
              "      <th>residual sugar</th>\n",
              "      <th>chlorides</th>\n",
              "      <th>free sulfur dioxide</th>\n",
              "      <th>total sulfur dioxide</th>\n",
              "      <th>density</th>\n",
              "      <th>pH</th>\n",
              "      <th>sulphates</th>\n",
              "      <th>alcohol</th>\n",
              "      <th>quality</th>\n",
              "      <th>Id</th>\n",
              "    </tr>\n",
              "  </thead>\n",
              "  <tbody>\n",
              "    <tr>\n",
              "      <th>0</th>\n",
              "      <td>7.4</td>\n",
              "      <td>0.70</td>\n",
              "      <td>0.00</td>\n",
              "      <td>1.9</td>\n",
              "      <td>0.076</td>\n",
              "      <td>11.0</td>\n",
              "      <td>34.0</td>\n",
              "      <td>0.9978</td>\n",
              "      <td>3.51</td>\n",
              "      <td>0.56</td>\n",
              "      <td>9.4</td>\n",
              "      <td>5</td>\n",
              "      <td>0</td>\n",
              "    </tr>\n",
              "    <tr>\n",
              "      <th>1</th>\n",
              "      <td>7.8</td>\n",
              "      <td>0.88</td>\n",
              "      <td>0.00</td>\n",
              "      <td>2.6</td>\n",
              "      <td>0.098</td>\n",
              "      <td>25.0</td>\n",
              "      <td>67.0</td>\n",
              "      <td>0.9968</td>\n",
              "      <td>3.20</td>\n",
              "      <td>0.68</td>\n",
              "      <td>9.8</td>\n",
              "      <td>5</td>\n",
              "      <td>1</td>\n",
              "    </tr>\n",
              "    <tr>\n",
              "      <th>2</th>\n",
              "      <td>7.8</td>\n",
              "      <td>0.76</td>\n",
              "      <td>0.04</td>\n",
              "      <td>2.3</td>\n",
              "      <td>0.092</td>\n",
              "      <td>15.0</td>\n",
              "      <td>54.0</td>\n",
              "      <td>0.9970</td>\n",
              "      <td>3.26</td>\n",
              "      <td>0.65</td>\n",
              "      <td>9.8</td>\n",
              "      <td>5</td>\n",
              "      <td>2</td>\n",
              "    </tr>\n",
              "    <tr>\n",
              "      <th>3</th>\n",
              "      <td>11.2</td>\n",
              "      <td>0.28</td>\n",
              "      <td>0.56</td>\n",
              "      <td>1.9</td>\n",
              "      <td>0.075</td>\n",
              "      <td>17.0</td>\n",
              "      <td>60.0</td>\n",
              "      <td>0.9980</td>\n",
              "      <td>3.16</td>\n",
              "      <td>0.58</td>\n",
              "      <td>9.8</td>\n",
              "      <td>6</td>\n",
              "      <td>3</td>\n",
              "    </tr>\n",
              "    <tr>\n",
              "      <th>4</th>\n",
              "      <td>7.4</td>\n",
              "      <td>0.70</td>\n",
              "      <td>0.00</td>\n",
              "      <td>1.9</td>\n",
              "      <td>0.076</td>\n",
              "      <td>11.0</td>\n",
              "      <td>34.0</td>\n",
              "      <td>0.9978</td>\n",
              "      <td>3.51</td>\n",
              "      <td>0.56</td>\n",
              "      <td>9.4</td>\n",
              "      <td>5</td>\n",
              "      <td>4</td>\n",
              "    </tr>\n",
              "  </tbody>\n",
              "</table>\n",
              "</div>"
            ],
            "text/plain": [
              "   fixed acidity  volatile acidity  citric acid  residual sugar  chlorides  \\\n",
              "0            7.4              0.70         0.00             1.9      0.076   \n",
              "1            7.8              0.88         0.00             2.6      0.098   \n",
              "2            7.8              0.76         0.04             2.3      0.092   \n",
              "3           11.2              0.28         0.56             1.9      0.075   \n",
              "4            7.4              0.70         0.00             1.9      0.076   \n",
              "\n",
              "   free sulfur dioxide  total sulfur dioxide  density    pH  sulphates  \\\n",
              "0                 11.0                  34.0   0.9978  3.51       0.56   \n",
              "1                 25.0                  67.0   0.9968  3.20       0.68   \n",
              "2                 15.0                  54.0   0.9970  3.26       0.65   \n",
              "3                 17.0                  60.0   0.9980  3.16       0.58   \n",
              "4                 11.0                  34.0   0.9978  3.51       0.56   \n",
              "\n",
              "   alcohol  quality  Id  \n",
              "0      9.4        5   0  \n",
              "1      9.8        5   1  \n",
              "2      9.8        5   2  \n",
              "3      9.8        6   3  \n",
              "4      9.4        5   4  "
            ]
          },
          "execution_count": 3,
          "metadata": {},
          "output_type": "execute_result"
        }
      ],
      "source": [
        "# read csv files\n",
        "df=pd.read_csv('WineQT.csv')\n",
        "df.head()"
      ]
    },
    {
      "cell_type": "markdown",
      "id": "70875c64",
      "metadata": {
        "id": "70875c64"
      },
      "source": [
        "### 2.2 Feature Description"
      ]
    },
    {
      "cell_type": "markdown",
      "id": "88fdcd9c",
      "metadata": {
        "id": "88fdcd9c"
      },
      "source": [
        "<table>\n",
        "  <thead>\n",
        "    <tr>\n",
        "      <th>Column Name</th>\n",
        "      <th>Explanation</th>\n",
        "    </tr>\n",
        "  </thead>\n",
        "  <tbody>\n",
        "    <tr>\n",
        "      <td>Fixed Acidity</td>\n",
        "      <td>The amount of non-volatile acids (such as tartaric, malic, and succinic acid). These acids are important for flavor and stability, and can contribute to the wine's tartness or sourness. However, too much acidity can also make the wine taste sour or unbalanced. On the other hand, low levels of fixed acidity can make the wine taste flat or dull</td>\n",
        "    </tr>\n",
        "    <tr>\n",
        "      <td>Volatile Acidity</td>\n",
        "      <td>Taste measure, sign of winemaking quality. Higher – less control over taste</td>\n",
        "    </tr>\n",
        "      <tr>\n",
        "      <td>Citric Acid</td>\n",
        "      <td>Not typically present in significant amounts in wine, but it can be added during winemaking to adjust the wine's acidity or enhance its flavor profile. Citric acid can contribute a bright, citrusy note to the wine, which can be desirable in some styles of white wine, rosé, or sparkling wine</td>\n",
        "    </tr>\n",
        "      <tr>\n",
        "      <td>Residual Sugar</td>\n",
        "      <td>The amount of natural grape sugars that remain in the wine after fermentation is complete</td>\n",
        "    </tr>\n",
        "      <tr>\n",
        "      <td>Chlorides</td>\n",
        "      <td>The level of chlorides in wine can have an impact on the sensory characteristics of the wine, as well as its overall quality</td>\n",
        "    </tr>\n",
        "      <tr>\n",
        "      <td>Free Sulfur Dioxide</td>\n",
        "      <td>A type of sulfur dioxide that is present in wine. SO2 is added to wine during the winemaking process to protect the wine from oxidation and microbial spoilage</td>\n",
        "    </tr>\n",
        "      <tr>\n",
        "      <td>Total Sulfur dioxide</td>\n",
        "      <td>The sum of the free and bound forms of sulfur dioxide that are present in the wine</td>\n",
        "    </tr>\n",
        "      <tr>\n",
        "      <td>density</td>\n",
        "      <td>Density can be used to determine the alcohol content and sugar content</td>\n",
        "    </tr>\n",
        "      <tr>\n",
        "      <td>pH</td>\n",
        "      <td>pH is an important parameter that can affect the wine's stability, color, aroma, and taste. A wine with a low pH tends to be more refreshing, and age-worthy, while a wine with a high pH may be flatter, or dull</td>\n",
        "    </tr>\n",
        "      <tr>\n",
        "      <td>Sulphates</td>\n",
        "      <td>A chemical compound that occurs naturally at low levels during the process of wine fermentation. It is also added by many winemakers during the fermentation stage of winemaking to protect and preserve the wine's character, flavor, and color</td>   \n",
        "    </tr>\n",
        "      <tr>\n",
        "      <td>Alcohol</td>\n",
        "      <td>The average alcohol content of wine is about 12%</td>   \n",
        "    </tr>\n",
        "      <tr>\n",
        "      <td>Quality</td>\n",
        "      <td>Scores based on the combination of other features' measurement</td>   \n",
        "    </tr>\n",
        "      <tr>\n",
        "      <td>Id</td>\n",
        "      <td>The unique number of each row</td>\n",
        "  </tbody>\n",
        "</table>"
      ]
    },
    {
      "cell_type": "markdown",
      "id": "14307d20",
      "metadata": {
        "id": "14307d20"
      },
      "source": [
        "### 2.3 EDA and Vizualization"
      ]
    },
    {
      "cell_type": "code",
      "execution_count": null,
      "id": "7ec74275",
      "metadata": {
        "id": "7ec74275",
        "outputId": "958b700c-11df-4fad-dabc-020059205df4"
      },
      "outputs": [
        {
          "name": "stdout",
          "output_type": "stream",
          "text": [
            "<class 'pandas.core.frame.DataFrame'>\n",
            "RangeIndex: 1143 entries, 0 to 1142\n",
            "Data columns (total 13 columns):\n",
            " #   Column                Non-Null Count  Dtype  \n",
            "---  ------                --------------  -----  \n",
            " 0   fixed acidity         1143 non-null   float64\n",
            " 1   volatile acidity      1143 non-null   float64\n",
            " 2   citric acid           1143 non-null   float64\n",
            " 3   residual sugar        1143 non-null   float64\n",
            " 4   chlorides             1143 non-null   float64\n",
            " 5   free sulfur dioxide   1143 non-null   float64\n",
            " 6   total sulfur dioxide  1143 non-null   float64\n",
            " 7   density               1143 non-null   float64\n",
            " 8   pH                    1143 non-null   float64\n",
            " 9   sulphates             1143 non-null   float64\n",
            " 10  alcohol               1143 non-null   float64\n",
            " 11  quality               1143 non-null   int64  \n",
            " 12  Id                    1143 non-null   int64  \n",
            "dtypes: float64(11), int64(2)\n",
            "memory usage: 116.2 KB\n"
          ]
        }
      ],
      "source": [
        "# check data type and missing data\n",
        "df.info()"
      ]
    },
    {
      "cell_type": "code",
      "execution_count": null,
      "id": "7aef4730",
      "metadata": {
        "id": "7aef4730",
        "outputId": "6531256b-2870-41c5-83b6-791b6813d3d7"
      },
      "outputs": [
        {
          "data": {
            "text/plain": [
              "(1143, 13)"
            ]
          },
          "execution_count": 5,
          "metadata": {},
          "output_type": "execute_result"
        }
      ],
      "source": [
        "#check dimension\n",
        "df.shape"
      ]
    },
    {
      "cell_type": "code",
      "execution_count": null,
      "id": "6dde3264",
      "metadata": {
        "id": "6dde3264",
        "outputId": "c682a677-fec7-45be-ee55-c96e19b56949"
      },
      "outputs": [
        {
          "data": {
            "text/html": [
              "<div>\n",
              "<style scoped>\n",
              "    .dataframe tbody tr th:only-of-type {\n",
              "        vertical-align: middle;\n",
              "    }\n",
              "\n",
              "    .dataframe tbody tr th {\n",
              "        vertical-align: top;\n",
              "    }\n",
              "\n",
              "    .dataframe thead th {\n",
              "        text-align: right;\n",
              "    }\n",
              "</style>\n",
              "<table border=\"1\" class=\"dataframe\">\n",
              "  <thead>\n",
              "    <tr style=\"text-align: right;\">\n",
              "      <th></th>\n",
              "      <th>fixed acidity</th>\n",
              "      <th>volatile acidity</th>\n",
              "      <th>citric acid</th>\n",
              "      <th>residual sugar</th>\n",
              "      <th>chlorides</th>\n",
              "      <th>free sulfur dioxide</th>\n",
              "      <th>total sulfur dioxide</th>\n",
              "      <th>density</th>\n",
              "      <th>pH</th>\n",
              "      <th>sulphates</th>\n",
              "      <th>alcohol</th>\n",
              "      <th>quality</th>\n",
              "      <th>Id</th>\n",
              "    </tr>\n",
              "  </thead>\n",
              "  <tbody>\n",
              "    <tr>\n",
              "      <th>count</th>\n",
              "      <td>1143.0</td>\n",
              "      <td>1143.0</td>\n",
              "      <td>1143.0</td>\n",
              "      <td>1143.0</td>\n",
              "      <td>1143.0</td>\n",
              "      <td>1143.0</td>\n",
              "      <td>1143.0</td>\n",
              "      <td>1143.0</td>\n",
              "      <td>1143.0</td>\n",
              "      <td>1143.0</td>\n",
              "      <td>1143.0</td>\n",
              "      <td>1143.0</td>\n",
              "      <td>1143.0</td>\n",
              "    </tr>\n",
              "    <tr>\n",
              "      <th>mean</th>\n",
              "      <td>8.3</td>\n",
              "      <td>0.5</td>\n",
              "      <td>0.3</td>\n",
              "      <td>2.5</td>\n",
              "      <td>0.1</td>\n",
              "      <td>15.6</td>\n",
              "      <td>45.9</td>\n",
              "      <td>1.0</td>\n",
              "      <td>3.3</td>\n",
              "      <td>0.7</td>\n",
              "      <td>10.4</td>\n",
              "      <td>5.7</td>\n",
              "      <td>805.0</td>\n",
              "    </tr>\n",
              "    <tr>\n",
              "      <th>std</th>\n",
              "      <td>1.7</td>\n",
              "      <td>0.2</td>\n",
              "      <td>0.2</td>\n",
              "      <td>1.4</td>\n",
              "      <td>0.0</td>\n",
              "      <td>10.3</td>\n",
              "      <td>32.8</td>\n",
              "      <td>0.0</td>\n",
              "      <td>0.2</td>\n",
              "      <td>0.2</td>\n",
              "      <td>1.1</td>\n",
              "      <td>0.8</td>\n",
              "      <td>464.0</td>\n",
              "    </tr>\n",
              "    <tr>\n",
              "      <th>min</th>\n",
              "      <td>4.6</td>\n",
              "      <td>0.1</td>\n",
              "      <td>0.0</td>\n",
              "      <td>0.9</td>\n",
              "      <td>0.0</td>\n",
              "      <td>1.0</td>\n",
              "      <td>6.0</td>\n",
              "      <td>1.0</td>\n",
              "      <td>2.7</td>\n",
              "      <td>0.3</td>\n",
              "      <td>8.4</td>\n",
              "      <td>3.0</td>\n",
              "      <td>0.0</td>\n",
              "    </tr>\n",
              "    <tr>\n",
              "      <th>25%</th>\n",
              "      <td>7.1</td>\n",
              "      <td>0.4</td>\n",
              "      <td>0.1</td>\n",
              "      <td>1.9</td>\n",
              "      <td>0.1</td>\n",
              "      <td>7.0</td>\n",
              "      <td>21.0</td>\n",
              "      <td>1.0</td>\n",
              "      <td>3.2</td>\n",
              "      <td>0.6</td>\n",
              "      <td>9.5</td>\n",
              "      <td>5.0</td>\n",
              "      <td>411.0</td>\n",
              "    </tr>\n",
              "    <tr>\n",
              "      <th>50%</th>\n",
              "      <td>7.9</td>\n",
              "      <td>0.5</td>\n",
              "      <td>0.2</td>\n",
              "      <td>2.2</td>\n",
              "      <td>0.1</td>\n",
              "      <td>13.0</td>\n",
              "      <td>37.0</td>\n",
              "      <td>1.0</td>\n",
              "      <td>3.3</td>\n",
              "      <td>0.6</td>\n",
              "      <td>10.2</td>\n",
              "      <td>6.0</td>\n",
              "      <td>794.0</td>\n",
              "    </tr>\n",
              "    <tr>\n",
              "      <th>75%</th>\n",
              "      <td>9.1</td>\n",
              "      <td>0.6</td>\n",
              "      <td>0.4</td>\n",
              "      <td>2.6</td>\n",
              "      <td>0.1</td>\n",
              "      <td>21.0</td>\n",
              "      <td>61.0</td>\n",
              "      <td>1.0</td>\n",
              "      <td>3.4</td>\n",
              "      <td>0.7</td>\n",
              "      <td>11.1</td>\n",
              "      <td>6.0</td>\n",
              "      <td>1209.5</td>\n",
              "    </tr>\n",
              "    <tr>\n",
              "      <th>max</th>\n",
              "      <td>15.9</td>\n",
              "      <td>1.6</td>\n",
              "      <td>1.0</td>\n",
              "      <td>15.5</td>\n",
              "      <td>0.6</td>\n",
              "      <td>68.0</td>\n",
              "      <td>289.0</td>\n",
              "      <td>1.0</td>\n",
              "      <td>4.0</td>\n",
              "      <td>2.0</td>\n",
              "      <td>14.9</td>\n",
              "      <td>8.0</td>\n",
              "      <td>1597.0</td>\n",
              "    </tr>\n",
              "  </tbody>\n",
              "</table>\n",
              "</div>"
            ],
            "text/plain": [
              "       fixed acidity  volatile acidity  citric acid  residual sugar  \\\n",
              "count         1143.0            1143.0       1143.0          1143.0   \n",
              "mean             8.3               0.5          0.3             2.5   \n",
              "std              1.7               0.2          0.2             1.4   \n",
              "min              4.6               0.1          0.0             0.9   \n",
              "25%              7.1               0.4          0.1             1.9   \n",
              "50%              7.9               0.5          0.2             2.2   \n",
              "75%              9.1               0.6          0.4             2.6   \n",
              "max             15.9               1.6          1.0            15.5   \n",
              "\n",
              "       chlorides  free sulfur dioxide  total sulfur dioxide  density      pH  \\\n",
              "count     1143.0               1143.0                1143.0   1143.0  1143.0   \n",
              "mean         0.1                 15.6                  45.9      1.0     3.3   \n",
              "std          0.0                 10.3                  32.8      0.0     0.2   \n",
              "min          0.0                  1.0                   6.0      1.0     2.7   \n",
              "25%          0.1                  7.0                  21.0      1.0     3.2   \n",
              "50%          0.1                 13.0                  37.0      1.0     3.3   \n",
              "75%          0.1                 21.0                  61.0      1.0     3.4   \n",
              "max          0.6                 68.0                 289.0      1.0     4.0   \n",
              "\n",
              "       sulphates  alcohol  quality      Id  \n",
              "count     1143.0   1143.0   1143.0  1143.0  \n",
              "mean         0.7     10.4      5.7   805.0  \n",
              "std          0.2      1.1      0.8   464.0  \n",
              "min          0.3      8.4      3.0     0.0  \n",
              "25%          0.6      9.5      5.0   411.0  \n",
              "50%          0.6     10.2      6.0   794.0  \n",
              "75%          0.7     11.1      6.0  1209.5  \n",
              "max          2.0     14.9      8.0  1597.0  "
            ]
          },
          "execution_count": 6,
          "metadata": {},
          "output_type": "execute_result"
        }
      ],
      "source": [
        "# Descriptive analysis\n",
        "df.describe().round(1)"
      ]
    },
    {
      "cell_type": "code",
      "execution_count": null,
      "id": "c356c477",
      "metadata": {
        "id": "c356c477",
        "outputId": "c540c222-17aa-427e-c923-40cf953b7d38"
      },
      "outputs": [
        {
          "data": {
            "text/plain": [
              "5    483\n",
              "6    462\n",
              "7    143\n",
              "4     33\n",
              "8     16\n",
              "3      6\n",
              "Name: quality, dtype: int64"
            ]
          },
          "execution_count": 7,
          "metadata": {},
          "output_type": "execute_result"
        }
      ],
      "source": [
        "#check target variable\n",
        "df.quality.value_counts()"
      ]
    },
    {
      "cell_type": "code",
      "execution_count": null,
      "id": "e8ba65a2",
      "metadata": {
        "id": "e8ba65a2",
        "outputId": "50b0e070-6269-4c48-fa1f-ee41c23aea40"
      },
      "outputs": [
        {
          "data": {
            "text/plain": [
              "<AxesSubplot:xlabel='quality', ylabel='count'>"
            ]
          },
          "execution_count": 8,
          "metadata": {},
          "output_type": "execute_result"
        },
        {
          "data": {
            "image/png": "[encoded data removed]",
            "text/plain": [
              "<Figure size 432x288 with 1 Axes>"
            ]
          },
          "metadata": {
            "needs_background": "light"
          },
          "output_type": "display_data"
        }
      ],
      "source": [
        "# Visulize distribution of quality\n",
        "sns.countplot(data=df, x=\"quality\")"
      ]
    },
    {
      "cell_type": "code",
      "execution_count": null,
      "id": "7d1ab581",
      "metadata": {
        "id": "7d1ab581",
        "outputId": "be57c351-90d2-4a67-c017-a36b153373dd"
      },
      "outputs": [
        {
          "data": {
            "text/plain": [
              "<AxesSubplot:>"
            ]
          },
          "execution_count": 9,
          "metadata": {},
          "output_type": "execute_result"
        },
        {
          "data": {
            "image/png": "[encoded data removed]",
            "text/plain": [
              "<Figure size 432x288 with 2 Axes>"
            ]
          },
          "metadata": {
            "needs_background": "light"
          },
          "output_type": "display_data"
        }
      ],
      "source": [
        "# Create the heatmap\n",
        "sns.heatmap(df.corr(), annot=True,fmt='.2f', cmap=\"crest\")"
      ]
    },
    {
      "cell_type": "code",
      "execution_count": null,
      "id": "c1c6d4fb",
      "metadata": {
        "id": "c1c6d4fb",
        "outputId": "6ec8a99b-d3db-4929-8601-20c282d84d08"
      },
      "outputs": [
        {
          "data": {
            "image/png": "[encoded data removed]",
            "text/plain": [
              "<Figure size 720x1440 with 26 Axes>"
            ]
          },
          "metadata": {
            "needs_background": "light"
          },
          "output_type": "display_data"
        }
      ],
      "source": [
        "# Visualizing columns Distribution\n",
        "# Increase the font size\n",
        "plt.rcParams.update({'font.size': 8})\n",
        "\n",
        "fig, ax = plt.subplots(13, 2, figsize=(10, 20))\n",
        "fig.tight_layout()\n",
        "fig.subplots_adjust(top=0.95, hspace=2)  # Adjust the hspace parameter for vertical spacing\n",
        "\n",
        "plt.suptitle(\"Visualizing columns Distribution\", fontsize=15)\n",
        "\n",
        "for index, i in enumerate(df.columns):\n",
        "    sns.distplot(df[i], ax=ax[index, 0], color='green')\n",
        "    sns.boxplot(df[i], ax=ax[index, 1], color='yellow')\n",
        "\n",
        "    # Set font size for titles and labels\n",
        "    ax[index, 0].set_title(f'Distribution of {i}', fontsize=10)\n",
        "    ax[index, 1].set_title(f'Boxplot of {i}', fontsize=10)\n",
        "    ax[index, 0].set_xlabel('Values', fontsize=8)\n",
        "    ax[index, 0].set_ylabel('Density', fontsize=8)\n",
        "    ax[index, 1].set_xlabel('Values', fontsize=8)\n",
        "\n",
        "    # Remove unnecessary spines\n",
        "    ax[index, 0].spines['top'].set_visible(False)\n",
        "    ax[index, 0].spines['right'].set_visible(False)\n",
        "    ax[index, 1].spines['top'].set_visible(False)\n",
        "    ax[index, 1].spines['right'].set_visible(False)\n",
        "\n",
        "plt.show()"
      ]
    },
    {
      "cell_type": "code",
      "execution_count": null,
      "id": "f41af717",
      "metadata": {
        "id": "f41af717",
        "outputId": "f004a4b7-5282-41f2-b82c-8f7a815d3fb8"
      },
      "outputs": [
        {
          "data": {
            "image/png": "[encoded data removed]",
            "text/plain": [
              "<Figure size 720x720 with 2 Axes>"
            ]
          },
          "metadata": {
            "needs_background": "light"
          },
          "output_type": "display_data"
        }
      ],
      "source": [
        "# Create the correlation matrix\n",
        "corr = df.corr()\n",
        "\n",
        "# Create the heatmap\n",
        "plt.figure(figsize=(10, 10))\n",
        "sns.heatmap(corr, cmap=\"Reds\")\n",
        "plt.show()"
      ]
    },
    {
      "cell_type": "markdown",
      "id": "00b2e48a",
      "metadata": {
        "id": "00b2e48a"
      },
      "source": [
        "## 3. Data Preparation\n",
        "### 3.1 Label quality as High or low and set limits"
      ]
    },
    {
      "cell_type": "code",
      "execution_count": null,
      "id": "b17c5a55",
      "metadata": {
        "id": "b17c5a55",
        "outputId": "c71427ae-bed4-45c8-a5b8-e56ceeb0b465"
      },
      "outputs": [
        {
          "data": {
            "text/html": [
              "<div>\n",
              "<style scoped>\n",
              "    .dataframe tbody tr th:only-of-type {\n",
              "        vertical-align: middle;\n",
              "    }\n",
              "\n",
              "    .dataframe tbody tr th {\n",
              "        vertical-align: top;\n",
              "    }\n",
              "\n",
              "    .dataframe thead th {\n",
              "        text-align: right;\n",
              "    }\n",
              "</style>\n",
              "<table border=\"1\" class=\"dataframe\">\n",
              "  <thead>\n",
              "    <tr style=\"text-align: right;\">\n",
              "      <th></th>\n",
              "      <th>fixed acidity</th>\n",
              "      <th>volatile acidity</th>\n",
              "      <th>citric acid</th>\n",
              "      <th>residual sugar</th>\n",
              "      <th>chlorides</th>\n",
              "      <th>free sulfur dioxide</th>\n",
              "      <th>total sulfur dioxide</th>\n",
              "      <th>density</th>\n",
              "      <th>pH</th>\n",
              "      <th>sulphates</th>\n",
              "      <th>alcohol</th>\n",
              "      <th>quality</th>\n",
              "      <th>Id</th>\n",
              "      <th>quality_score</th>\n",
              "    </tr>\n",
              "  </thead>\n",
              "  <tbody>\n",
              "    <tr>\n",
              "      <th>0</th>\n",
              "      <td>7.4</td>\n",
              "      <td>0.70</td>\n",
              "      <td>0.00</td>\n",
              "      <td>1.9</td>\n",
              "      <td>0.076</td>\n",
              "      <td>11.0</td>\n",
              "      <td>34.0</td>\n",
              "      <td>0.9978</td>\n",
              "      <td>3.51</td>\n",
              "      <td>0.56</td>\n",
              "      <td>9.4</td>\n",
              "      <td>5</td>\n",
              "      <td>0</td>\n",
              "      <td>0</td>\n",
              "    </tr>\n",
              "    <tr>\n",
              "      <th>1</th>\n",
              "      <td>7.8</td>\n",
              "      <td>0.88</td>\n",
              "      <td>0.00</td>\n",
              "      <td>2.6</td>\n",
              "      <td>0.098</td>\n",
              "      <td>25.0</td>\n",
              "      <td>67.0</td>\n",
              "      <td>0.9968</td>\n",
              "      <td>3.20</td>\n",
              "      <td>0.68</td>\n",
              "      <td>9.8</td>\n",
              "      <td>5</td>\n",
              "      <td>1</td>\n",
              "      <td>0</td>\n",
              "    </tr>\n",
              "    <tr>\n",
              "      <th>2</th>\n",
              "      <td>7.8</td>\n",
              "      <td>0.76</td>\n",
              "      <td>0.04</td>\n",
              "      <td>2.3</td>\n",
              "      <td>0.092</td>\n",
              "      <td>15.0</td>\n",
              "      <td>54.0</td>\n",
              "      <td>0.9970</td>\n",
              "      <td>3.26</td>\n",
              "      <td>0.65</td>\n",
              "      <td>9.8</td>\n",
              "      <td>5</td>\n",
              "      <td>2</td>\n",
              "      <td>0</td>\n",
              "    </tr>\n",
              "    <tr>\n",
              "      <th>3</th>\n",
              "      <td>11.2</td>\n",
              "      <td>0.28</td>\n",
              "      <td>0.56</td>\n",
              "      <td>1.9</td>\n",
              "      <td>0.075</td>\n",
              "      <td>17.0</td>\n",
              "      <td>60.0</td>\n",
              "      <td>0.9980</td>\n",
              "      <td>3.16</td>\n",
              "      <td>0.58</td>\n",
              "      <td>9.8</td>\n",
              "      <td>6</td>\n",
              "      <td>3</td>\n",
              "      <td>0</td>\n",
              "    </tr>\n",
              "    <tr>\n",
              "      <th>4</th>\n",
              "      <td>7.4</td>\n",
              "      <td>0.70</td>\n",
              "      <td>0.00</td>\n",
              "      <td>1.9</td>\n",
              "      <td>0.076</td>\n",
              "      <td>11.0</td>\n",
              "      <td>34.0</td>\n",
              "      <td>0.9978</td>\n",
              "      <td>3.51</td>\n",
              "      <td>0.56</td>\n",
              "      <td>9.4</td>\n",
              "      <td>5</td>\n",
              "      <td>4</td>\n",
              "      <td>0</td>\n",
              "    </tr>\n",
              "  </tbody>\n",
              "</table>\n",
              "</div>"
            ],
            "text/plain": [
              "   fixed acidity  volatile acidity  citric acid  residual sugar  chlorides  \\\n",
              "0            7.4              0.70         0.00             1.9      0.076   \n",
              "1            7.8              0.88         0.00             2.6      0.098   \n",
              "2            7.8              0.76         0.04             2.3      0.092   \n",
              "3           11.2              0.28         0.56             1.9      0.075   \n",
              "4            7.4              0.70         0.00             1.9      0.076   \n",
              "\n",
              "   free sulfur dioxide  total sulfur dioxide  density    pH  sulphates  \\\n",
              "0                 11.0                  34.0   0.9978  3.51       0.56   \n",
              "1                 25.0                  67.0   0.9968  3.20       0.68   \n",
              "2                 15.0                  54.0   0.9970  3.26       0.65   \n",
              "3                 17.0                  60.0   0.9980  3.16       0.58   \n",
              "4                 11.0                  34.0   0.9978  3.51       0.56   \n",
              "\n",
              "   alcohol  quality  Id  quality_score  \n",
              "0      9.4        5   0              0  \n",
              "1      9.8        5   1              0  \n",
              "2      9.8        5   2              0  \n",
              "3      9.8        6   3              0  \n",
              "4      9.4        5   4              0  "
            ]
          },
          "execution_count": 12,
          "metadata": {},
          "output_type": "execute_result"
        }
      ],
      "source": [
        "# Define the quality score threshold: 6.5\n",
        "threshold =6.5\n",
        "# Convert the quality score to binary\n",
        "# Over 6.5 is high quality\n",
        "# 1 represents high quality, 0 represents low quality\n",
        "df['quality_score'] = np.where(df['quality'] > threshold, 1, 0)\n",
        "df.head()"
      ]
    },
    {
      "cell_type": "code",
      "execution_count": null,
      "id": "b84b738f",
      "metadata": {
        "id": "b84b738f",
        "outputId": "7cc0efda-9ee1-49e6-854f-19cfd7dbc305"
      },
      "outputs": [
        {
          "data": {
            "text/html": [
              "<div>\n",
              "<style scoped>\n",
              "    .dataframe tbody tr th:only-of-type {\n",
              "        vertical-align: middle;\n",
              "    }\n",
              "\n",
              "    .dataframe tbody tr th {\n",
              "        vertical-align: top;\n",
              "    }\n",
              "\n",
              "    .dataframe thead th {\n",
              "        text-align: right;\n",
              "    }\n",
              "</style>\n",
              "<table border=\"1\" class=\"dataframe\">\n",
              "  <thead>\n",
              "    <tr style=\"text-align: right;\">\n",
              "      <th></th>\n",
              "      <th>fixed acidity</th>\n",
              "      <th>volatile acidity</th>\n",
              "      <th>citric acid</th>\n",
              "      <th>residual sugar</th>\n",
              "      <th>chlorides</th>\n",
              "      <th>free sulfur dioxide</th>\n",
              "      <th>total sulfur dioxide</th>\n",
              "      <th>density</th>\n",
              "      <th>pH</th>\n",
              "      <th>sulphates</th>\n",
              "      <th>alcohol</th>\n",
              "    </tr>\n",
              "  </thead>\n",
              "  <tbody>\n",
              "    <tr>\n",
              "      <th>0</th>\n",
              "      <td>7.4</td>\n",
              "      <td>0.70</td>\n",
              "      <td>0.00</td>\n",
              "      <td>1.9</td>\n",
              "      <td>0.076</td>\n",
              "      <td>11.0</td>\n",
              "      <td>34.0</td>\n",
              "      <td>0.9978</td>\n",
              "      <td>3.51</td>\n",
              "      <td>0.56</td>\n",
              "      <td>9.4</td>\n",
              "    </tr>\n",
              "    <tr>\n",
              "      <th>1</th>\n",
              "      <td>7.8</td>\n",
              "      <td>0.88</td>\n",
              "      <td>0.00</td>\n",
              "      <td>2.6</td>\n",
              "      <td>0.098</td>\n",
              "      <td>25.0</td>\n",
              "      <td>67.0</td>\n",
              "      <td>0.9968</td>\n",
              "      <td>3.20</td>\n",
              "      <td>0.68</td>\n",
              "      <td>9.8</td>\n",
              "    </tr>\n",
              "    <tr>\n",
              "      <th>2</th>\n",
              "      <td>7.8</td>\n",
              "      <td>0.76</td>\n",
              "      <td>0.04</td>\n",
              "      <td>2.3</td>\n",
              "      <td>0.092</td>\n",
              "      <td>15.0</td>\n",
              "      <td>54.0</td>\n",
              "      <td>0.9970</td>\n",
              "      <td>3.26</td>\n",
              "      <td>0.65</td>\n",
              "      <td>9.8</td>\n",
              "    </tr>\n",
              "    <tr>\n",
              "      <th>3</th>\n",
              "      <td>11.2</td>\n",
              "      <td>0.28</td>\n",
              "      <td>0.56</td>\n",
              "      <td>1.9</td>\n",
              "      <td>0.075</td>\n",
              "      <td>17.0</td>\n",
              "      <td>60.0</td>\n",
              "      <td>0.9980</td>\n",
              "      <td>3.16</td>\n",
              "      <td>0.58</td>\n",
              "      <td>9.8</td>\n",
              "    </tr>\n",
              "    <tr>\n",
              "      <th>4</th>\n",
              "      <td>7.4</td>\n",
              "      <td>0.70</td>\n",
              "      <td>0.00</td>\n",
              "      <td>1.9</td>\n",
              "      <td>0.076</td>\n",
              "      <td>11.0</td>\n",
              "      <td>34.0</td>\n",
              "      <td>0.9978</td>\n",
              "      <td>3.51</td>\n",
              "      <td>0.56</td>\n",
              "      <td>9.4</td>\n",
              "    </tr>\n",
              "  </tbody>\n",
              "</table>\n",
              "</div>"
            ],
            "text/plain": [
              "   fixed acidity  volatile acidity  citric acid  residual sugar  chlorides  \\\n",
              "0            7.4              0.70         0.00             1.9      0.076   \n",
              "1            7.8              0.88         0.00             2.6      0.098   \n",
              "2            7.8              0.76         0.04             2.3      0.092   \n",
              "3           11.2              0.28         0.56             1.9      0.075   \n",
              "4            7.4              0.70         0.00             1.9      0.076   \n",
              "\n",
              "   free sulfur dioxide  total sulfur dioxide  density    pH  sulphates  \\\n",
              "0                 11.0                  34.0   0.9978  3.51       0.56   \n",
              "1                 25.0                  67.0   0.9968  3.20       0.68   \n",
              "2                 15.0                  54.0   0.9970  3.26       0.65   \n",
              "3                 17.0                  60.0   0.9980  3.16       0.58   \n",
              "4                 11.0                  34.0   0.9978  3.51       0.56   \n",
              "\n",
              "   alcohol  \n",
              "0      9.4  \n",
              "1      9.8  \n",
              "2      9.8  \n",
              "3      9.8  \n",
              "4      9.4  "
            ]
          },
          "execution_count": 13,
          "metadata": {},
          "output_type": "execute_result"
        }
      ],
      "source": [
        "from sklearn.model_selection import train_test_split\n",
        "# Create X, Y\n",
        "y = df['quality_score'] # define Y\n",
        "X = df.drop(['quality', 'Id','quality_score'], axis=1) # define X by dropping irrelevent features\n",
        "X = pd.get_dummies(data=X, drop_first=True)\n",
        "X.head()"
      ]
    },
    {
      "cell_type": "markdown",
      "id": "80f186b4",
      "metadata": {
        "id": "80f186b4"
      },
      "source": [
        "### 3.2 Split the data for train and test"
      ]
    },
    {
      "cell_type": "code",
      "execution_count": null,
      "id": "4e3e468d",
      "metadata": {
        "id": "4e3e468d"
      },
      "outputs": [],
      "source": [
        "X_train,X_test, y_train,y_test = train_test_split(X,y, test_size=0.4, random_state = 42) # split data 60% for training"
      ]
    },
    {
      "cell_type": "markdown",
      "id": "bb059276",
      "metadata": {
        "id": "bb059276"
      },
      "source": [
        "## 4. Modeling"
      ]
    },
    {
      "cell_type": "markdown",
      "id": "b0aaeaae",
      "metadata": {
        "id": "b0aaeaae"
      },
      "source": [
        "### 4.1 SVM Classification"
      ]
    },
    {
      "cell_type": "code",
      "execution_count": null,
      "id": "b10ed492",
      "metadata": {
        "id": "b10ed492",
        "outputId": "371bb407-6dec-4ada-a300-cb11dc6c5ee4"
      },
      "outputs": [
        {
          "name": "stdout",
          "output_type": "stream",
          "text": [
            "Out-of-sample accuracy of SVM:  0.867\n"
          ]
        }
      ],
      "source": [
        "# fit SVM with linear kernel\n",
        "svc_model = SVC(kernel='linear', probability=True)\n",
        "svc_model.fit(X_train, y_train)\n",
        "\n",
        "# evaluate in the test data\n",
        "y_pred=svc_model.predict(X_test)\n",
        "svc_accuracy= round(accuracy_score(y_test, y_pred), 3)\n",
        "\n",
        "print(\"Out-of-sample accuracy of SVM: \",svc_accuracy) # proportion of correctly classified"
      ]
    },
    {
      "cell_type": "code",
      "execution_count": null,
      "id": "0a9d950d",
      "metadata": {
        "id": "0a9d950d",
        "outputId": "1e7ead26-5880-4625-fbc8-74ff69dc8d93"
      },
      "outputs": [
        {
          "data": {
            "image/png": "[encoded data removed]",
            "text/plain": [
              "<Figure size 432x288 with 2 Axes>"
            ]
          },
          "metadata": {
            "needs_background": "light"
          },
          "output_type": "display_data"
        }
      ],
      "source": [
        "svc_cm = confusion_matrix(y_test, y_pred, labels=svc_model.classes_)\n",
        "# Create a ConfusionMatrixDisplay object and plot the confusion matrix\n",
        "disp = ConfusionMatrixDisplay(confusion_matrix=svc_cm, display_labels=svc_model.classes_)\n",
        "disp.plot()\n",
        "# Add axis labels and title\n",
        "plt.xlabel('Predicted Label')\n",
        "plt.ylabel('True Label')\n",
        "\n",
        "# Show the plot\n",
        "plt.show()"
      ]
    },
    {
      "cell_type": "code",
      "execution_count": null,
      "id": "607e96af",
      "metadata": {
        "id": "607e96af",
        "outputId": "fa663241-9ad0-480b-a9b8-7f5a5f375c9e"
      },
      "outputs": [
        {
          "name": "stdout",
          "output_type": "stream",
          "text": [
            "True Positive Rate: 0.0\n",
            "False Positive Rate: 0.0\n"
          ]
        }
      ],
      "source": [
        "# Confusion matrix values\n",
        "TP = svc_cm[1, 1]\n",
        "FP = svc_cm[0, 1]\n",
        "TN = svc_cm[0, 0]\n",
        "FN = svc_cm[1, 0]\n",
        "\n",
        "# Calculate true positive rate (TPR) and false positive rate (FPR)\n",
        "TPR = TP / (TP + FN)\n",
        "FPR = FP / (FP + TN)\n",
        "\n",
        "print(\"True Positive Rate:\", TPR)\n",
        "print(\"False Positive Rate:\", FPR)"
      ]
    },
    {
      "cell_type": "code",
      "execution_count": null,
      "id": "8ab38e5a",
      "metadata": {
        "id": "8ab38e5a",
        "outputId": "0becec0e-0509-4384-84d7-4084eb93cdf7"
      },
      "outputs": [
        {
          "name": "stdout",
          "output_type": "stream",
          "text": [
            "AUC: 0.5\n"
          ]
        }
      ],
      "source": [
        "# calculate AUC\n",
        "svc_auc =round(roc_auc_score(y_test, y_pred), 3)\n",
        "print('AUC:', svc_auc)"
      ]
    },
    {
      "cell_type": "code",
      "execution_count": null,
      "id": "143d9c1a",
      "metadata": {
        "id": "143d9c1a",
        "outputId": "91962777-33ff-4f5c-dac4-99252666ec00"
      },
      "outputs": [
        {
          "data": {
            "text/plain": [
              "10070"
            ]
          },
          "execution_count": 19,
          "metadata": {},
          "output_type": "execute_result"
        }
      ],
      "source": [
        "costbenefit_mat = np.array([[10, -40], [100,50]])\n",
        "svc_profits = sum(sum(svc_cm * costbenefit_mat))\n",
        "svc_profits"
      ]
    },
    {
      "cell_type": "markdown",
      "id": "5f92f423",
      "metadata": {
        "id": "5f92f423"
      },
      "source": [
        "### 4.2 Logistic Regression"
      ]
    },
    {
      "cell_type": "code",
      "execution_count": null,
      "id": "2a96ad59",
      "metadata": {
        "id": "2a96ad59",
        "outputId": "4e04f887-f05b-43f5-978b-e8dbeb1732ca"
      },
      "outputs": [
        {
          "name": "stdout",
          "output_type": "stream",
          "text": [
            "Out-of-sample accuracy of Logistic Regression : 0.867\n"
          ]
        }
      ],
      "source": [
        "model = LogisticRegression(random_state=0).fit(X_train, y_train)\n",
        "# Get out-of-sample prediction performance\n",
        "y_pred_test=model.predict(X_test)\n",
        "logit_accuracy= round(accuracy_score(y_test, y_pred), 3)\n",
        "print(\"Out-of-sample accuracy of Logistic Regression :\", logit_accuracy)"
      ]
    },
    {
      "cell_type": "code",
      "execution_count": null,
      "id": "6a3ccaf8",
      "metadata": {
        "id": "6a3ccaf8",
        "outputId": "e07e3379-6034-4194-aa2a-406ebd86dbda"
      },
      "outputs": [
        {
          "data": {
            "image/png": "[encoded data removed]",
            "text/plain": [
              "<Figure size 432x288 with 2 Axes>"
            ]
          },
          "metadata": {
            "needs_background": "light"
          },
          "output_type": "display_data"
        }
      ],
      "source": [
        "# Get the predictions of the logistic regression model on the test set\n",
        "y_pred = model.predict(X_test)\n",
        "\n",
        "# Calculate the confusion matrix\n",
        "logit_cm = confusion_matrix(y_test, y_pred, labels=model.classes_)\n",
        "\n",
        "# Create a ConfusionMatrixDisplay object and plot the confusion matrix\n",
        "disp = ConfusionMatrixDisplay(confusion_matrix=logit_cm, display_labels=model.classes_)\n",
        "disp.plot()\n",
        "# Add axis labels and title\n",
        "plt.xlabel('Predicted Label')\n",
        "plt.ylabel('True Label')\n",
        "\n",
        "# Show the plot\n",
        "plt.show()"
      ]
    },
    {
      "cell_type": "code",
      "execution_count": null,
      "id": "70437781",
      "metadata": {
        "id": "70437781",
        "outputId": "43cb3b17-eafa-4b04-8082-d1a34a7bf9f3"
      },
      "outputs": [
        {
          "name": "stdout",
          "output_type": "stream",
          "text": [
            "True Positive Rate: 0.2459016393442623\n",
            "False Positive Rate: 0.022670025188916875\n"
          ]
        }
      ],
      "source": [
        "# Confusion matrix values\n",
        "TP = logit_cm[1, 1]\n",
        "FP = logit_cm[0, 1]\n",
        "TN = logit_cm[0, 0]\n",
        "FN = logit_cm[1, 0]\n",
        "\n",
        "# Calculate true positive rate (TPR) and false positive rate (FPR)\n",
        "TPR = TP / (TP + FN)\n",
        "FPR = FP / (FP + TN)\n",
        "\n",
        "print(\"True Positive Rate:\", TPR)\n",
        "print(\"False Positive Rate:\", FPR)"
      ]
    },
    {
      "cell_type": "code",
      "execution_count": null,
      "id": "f8a767fa",
      "metadata": {
        "id": "f8a767fa",
        "outputId": "9a0e540d-de20-4f3c-9910-3091a628fb89"
      },
      "outputs": [
        {
          "name": "stdout",
          "output_type": "stream",
          "text": [
            "AUC: 0.612\n"
          ]
        }
      ],
      "source": [
        "# calculate AUC\n",
        "logit_auc =  round(roc_auc_score(y_test, y_pred), 3)\n",
        "print('AUC:', logit_auc)"
      ]
    },
    {
      "cell_type": "code",
      "execution_count": null,
      "id": "f7dde1e8",
      "metadata": {
        "id": "f7dde1e8",
        "outputId": "551751d7-09bf-41ee-a752-d8a7a790cd45"
      },
      "outputs": [
        {
          "data": {
            "text/plain": [
              "8870"
            ]
          },
          "execution_count": 24,
          "metadata": {},
          "output_type": "execute_result"
        }
      ],
      "source": [
        "costbenefit_mat = np.array([[10, -40], [100,50]])\n",
        "logit_profits = sum(sum(logit_cm * costbenefit_mat))\n",
        "logit_profits"
      ]
    },
    {
      "cell_type": "markdown",
      "id": "bd2f33a4",
      "metadata": {
        "id": "bd2f33a4"
      },
      "source": [
        "### 4.3 KKN Classification"
      ]
    },
    {
      "cell_type": "code",
      "execution_count": null,
      "id": "3c2c56ca",
      "metadata": {
        "id": "3c2c56ca",
        "outputId": "98fbf962-4a25-4c1a-af7b-acda35e51fbf"
      },
      "outputs": [
        {
          "name": "stdout",
          "output_type": "stream",
          "text": [
            "Out-of-sample accuracy of KNN:  0.867\n"
          ]
        }
      ],
      "source": [
        "knn_model = KNeighborsClassifier(n_neighbors = 5)\n",
        "knn_model.fit(X_train, y_train)\n",
        "\n",
        "# make predictions on the test set\n",
        "y_pred = knn_model.predict(X_test)\n",
        "\n",
        "# calculate the plain accuracy\n",
        "knn_accuracy_5 = round(accuracy_score(y_test, y_pred), 3)\n",
        "print(\"Out-of-sample accuracy of KNN: \", knn_accuracy_5)"
      ]
    },
    {
      "cell_type": "code",
      "execution_count": null,
      "id": "b8058408",
      "metadata": {
        "id": "b8058408",
        "outputId": "ffd53aeb-3401-4fbf-bdab-0f61a7821fb9"
      },
      "outputs": [
        {
          "name": "stdout",
          "output_type": "stream",
          "text": [
            "Optimal k: 9\n",
            "Out-of-sample Accuracy: 0.865\n"
          ]
        }
      ],
      "source": [
        "# define the range of k values to test\n",
        "k_range = range(1, 26, 2)\n",
        "k_scores = []\n",
        "\n",
        "# loop over k values and compute cross-validation scores\n",
        "for k in k_range:\n",
        "    knn = KNeighborsClassifier(n_neighbors=k)\n",
        "    scores = cross_val_score(knn, X_train, y_train, cv=5, scoring='accuracy')\n",
        "    k_scores.append(np.mean(scores))\n",
        "\n",
        "# find the optimal k value\n",
        "optimal_k = k_range[np.argmax(k_scores)]\n",
        "print(\"Optimal k:\", optimal_k)\n",
        "\n",
        "# fit the model to the full training data and evaluate on the test data\n",
        "knn = KNeighborsClassifier(n_neighbors=optimal_k)\n",
        "knn.fit(X_train, y_train)\n",
        "y_pred = knn.predict(X_test)\n",
        "knn_accuracy = round(accuracy_score(y_test, y_pred),3)\n",
        "print(\"Out-of-sample Accuracy:\", knn_accuracy)"
      ]
    },
    {
      "cell_type": "code",
      "execution_count": null,
      "id": "401f12cf",
      "metadata": {
        "id": "401f12cf",
        "outputId": "5b3f44f2-a7fb-416f-81f6-7bb8ee59a28a"
      },
      "outputs": [
        {
          "data": {
            "image/png": "[encoded data removed]",
            "text/plain": [
              "<Figure size 432x288 with 2 Axes>"
            ]
          },
          "metadata": {
            "needs_background": "light"
          },
          "output_type": "display_data"
        }
      ],
      "source": [
        "knn_model = KNeighborsClassifier(n_neighbors = 11)\n",
        "knn_model.fit(X_train, y_train)\n",
        "# make predictions on the test set\n",
        "y_pred_knn = knn_model.predict(X_test)\n",
        "knn_cm = confusion_matrix(y_test, y_pred_knn, labels=knn_model.classes_)\n",
        "disp = ConfusionMatrixDisplay(confusion_matrix=knn_cm, display_labels=knn_model.classes_)\n",
        "disp.plot()\n",
        "plt.show()"
      ]
    },
    {
      "cell_type": "code",
      "execution_count": null,
      "id": "52a2bd28",
      "metadata": {
        "id": "52a2bd28",
        "outputId": "a1f5f0a4-1c81-49ca-d026-8257e351a618"
      },
      "outputs": [
        {
          "name": "stdout",
          "output_type": "stream",
          "text": [
            "AUC: 0.551\n"
          ]
        }
      ],
      "source": [
        "# calculate AUC\n",
        "knn_auc = round(roc_auc_score(y_test, y_pred_knn),3)\n",
        "print('AUC:', knn_auc)"
      ]
    },
    {
      "cell_type": "code",
      "execution_count": null,
      "id": "38d3607d",
      "metadata": {
        "id": "38d3607d",
        "outputId": "bbeeb501-aed2-4ab3-f633-43d739307456"
      },
      "outputs": [
        {
          "name": "stdout",
          "output_type": "stream",
          "text": [
            "True Positive Rate: 0.11475409836065574\n",
            "False Positive Rate: 0.012594458438287154\n"
          ]
        }
      ],
      "source": [
        "# Confusion matrix values\n",
        "TP = knn_cm[1, 1]\n",
        "FP = knn_cm[0, 1]\n",
        "TN = knn_cm[0, 0]\n",
        "FN = knn_cm[1, 0]\n",
        "\n",
        "# Calculate true positive rate (TPR) and false positive rate (FPR)\n",
        "TPR = TP / (TP + FN)\n",
        "FPR = FP / (FP + TN)\n",
        "\n",
        "print(\"True Positive Rate:\", TPR)\n",
        "print(\"False Positive Rate:\", FPR)"
      ]
    },
    {
      "cell_type": "code",
      "execution_count": null,
      "id": "5c6e7121",
      "metadata": {
        "id": "5c6e7121",
        "outputId": "969f82cc-febf-4f1d-a7c5-c20b723af0ba"
      },
      "outputs": [
        {
          "data": {
            "text/plain": [
              "9470"
            ]
          },
          "execution_count": 30,
          "metadata": {},
          "output_type": "execute_result"
        }
      ],
      "source": [
        "costbenefit_mat = np.array([[10, -40], [100,50]])\n",
        "knn_profits = sum(sum(knn_cm * costbenefit_mat))\n",
        "knn_profits"
      ]
    },
    {
      "cell_type": "markdown",
      "id": "6d532310",
      "metadata": {
        "id": "6d532310"
      },
      "source": [
        "### 4.4 Decision Tree"
      ]
    },
    {
      "cell_type": "code",
      "execution_count": null,
      "id": "8a8aa5ff",
      "metadata": {
        "id": "8a8aa5ff",
        "outputId": "f1834106-1033-41b5-a599-4337e9da6c27"
      },
      "outputs": [
        {
          "data": {
            "image/png": "[encoded data removed]",
            "text/plain": [
              "<Figure size 432x288 with 1 Axes>"
            ]
          },
          "metadata": {
            "needs_background": "light"
          },
          "output_type": "display_data"
        },
        {
          "name": "stdout",
          "output_type": "stream",
          "text": [
            "\n",
            "The best model has max_depth=1 with a cross-validation accuracy of 0.8569479965899403.\n"
          ]
        }
      ],
      "source": [
        "# use cv=10 to find the best max depth\n",
        "# create list to store the accuracies for each value of max_depth\n",
        "accuracies = []\n",
        "max_depth = range(1, 11)\n",
        "\n",
        "# fit classification tree and evaluate using cross-validation for max_depth from 1 to 10\n",
        "for i in range(1, 11):\n",
        "    dtc_i = DecisionTreeClassifier(max_depth=i, random_state=0, criterion=\"entropy\")\n",
        "    # perform 5-fold cross-validation and get the mean accuracy score\n",
        "    cv_accuracy = cross_val_score(dtc_i, X_train, y_train, cv=10, scoring='accuracy').mean()\n",
        "    accuracies.append(cv_accuracy)\n",
        "\n",
        "plt.plot(max_depth, accuracies, 'bo-', label='Cross-validation Accuracy')\n",
        "plt.xlabel('max_depth')\n",
        "plt.ylabel('Accuracy')\n",
        "plt.title('Classification Tree Accuracy vs max_depth')\n",
        "plt.legend()\n",
        "plt.show()\n",
        "\n",
        "# find the index of the model with the highest accuracy\n",
        "best_model_idx = accuracies.index(max(accuracies))\n",
        "best_accuracy = accuracies[best_model_idx]\n",
        "\n",
        "print(f\"\\nThe best model has max_depth={best_model_idx+1} with a cross-validation accuracy of {best_accuracy}.\")"
      ]
    },
    {
      "cell_type": "code",
      "execution_count": null,
      "id": "b5bbb4ae",
      "metadata": {
        "id": "b5bbb4ae",
        "outputId": "ce193897-0bf1-4e51-d425-c2e4c224ff47"
      },
      "outputs": [
        {
          "name": "stdout",
          "output_type": "stream",
          "text": [
            "Out-of-sample accuracy of decision tree:  0.876\n"
          ]
        }
      ],
      "source": [
        "dtc = DecisionTreeClassifier(max_depth=3,criterion='entropy') # default setting: criterion='gini'\n",
        "dtc_model=dtc.fit(X_train,y_train)\n",
        "\n",
        "# evaluate in the test data\n",
        "y_pred=dtc_model.predict(X_test)\n",
        "dtc_accuracy=round(accuracy_score(y_test, y_pred),3)\n",
        "print(\"Out-of-sample accuracy of decision tree: \",dtc_accuracy) # proportion of correctly classified"
      ]
    },
    {
      "cell_type": "code",
      "execution_count": null,
      "id": "99710869",
      "metadata": {
        "id": "99710869",
        "outputId": "ce0c826c-05c6-4620-a1e9-03f514518bdd"
      },
      "outputs": [
        {
          "data": {
            "image/png": "[encoded data removed]",
            "text/plain": [
              "<Figure size 432x288 with 2 Axes>"
            ]
          },
          "metadata": {
            "needs_background": "light"
          },
          "output_type": "display_data"
        }
      ],
      "source": [
        "y_pred = dtc_model.predict(X_test)\n",
        "dtc_cm = confusion_matrix(y_test, y_pred, labels=dtc.classes_)\n",
        "disp = ConfusionMatrixDisplay(confusion_matrix=dtc_cm, display_labels=dtc.classes_)\n",
        "disp.plot()\n",
        "plt.show()"
      ]
    },
    {
      "cell_type": "code",
      "execution_count": null,
      "id": "ed82144a",
      "metadata": {
        "id": "ed82144a",
        "outputId": "bf279e7b-e6eb-45c4-9238-a73d47bd3ffe"
      },
      "outputs": [
        {
          "name": "stdout",
          "output_type": "stream",
          "text": [
            "AUC: 0.72\n"
          ]
        }
      ],
      "source": [
        "# calculate AUC\n",
        "dtc_auc = round(roc_auc_score(y_test, y_pred),3)\n",
        "print('AUC:', dtc_auc)"
      ]
    },
    {
      "cell_type": "code",
      "execution_count": null,
      "id": "d29b3c21",
      "metadata": {
        "id": "d29b3c21",
        "outputId": "4e87029c-356b-4e2c-cfa6-fbcd7009249b"
      },
      "outputs": [
        {
          "name": "stdout",
          "output_type": "stream",
          "text": [
            "True Positive Rate: 0.5081967213114754\n",
            "False Positive Rate: 0.06801007556675064\n"
          ]
        }
      ],
      "source": [
        "# Confusion matrix values\n",
        "TP = dtc_cm[1, 1]\n",
        "FP = dtc_cm[0, 1]\n",
        "TN = dtc_cm[0, 0]\n",
        "FN = dtc_cm[1, 0]\n",
        "\n",
        "# Calculate true positive rate (TPR) and false positive rate (FPR)\n",
        "TPR = TP / (TP + FN)\n",
        "FPR = FP / (FP + TN)\n",
        "\n",
        "print(\"True Positive Rate:\", TPR)\n",
        "print(\"False Positive Rate:\", FPR)"
      ]
    },
    {
      "cell_type": "code",
      "execution_count": null,
      "id": "a7c1f31f",
      "metadata": {
        "id": "a7c1f31f",
        "outputId": "d224f86f-ae75-449b-dfea-8ca43faed497"
      },
      "outputs": [
        {
          "data": {
            "text/plain": [
              "7170"
            ]
          },
          "execution_count": 36,
          "metadata": {},
          "output_type": "execute_result"
        }
      ],
      "source": [
        "costbenefit_mat = np.array([[10, -40], [100,50]])\n",
        "dtc_profits = sum(sum(dtc_cm * costbenefit_mat))\n",
        "dtc_profits"
      ]
    },
    {
      "cell_type": "markdown",
      "id": "b31c964a",
      "metadata": {
        "id": "b31c964a"
      },
      "source": [
        "### 4.5 Random Forest Classification"
      ]
    },
    {
      "cell_type": "code",
      "execution_count": null,
      "id": "a8ebfea0",
      "metadata": {
        "id": "a8ebfea0",
        "outputId": "e51a7e79-d01a-49a0-e2e2-1d2c43b4d45c"
      },
      "outputs": [
        {
          "name": "stdout",
          "output_type": "stream",
          "text": [
            "Out-of-sample Accuracy of Random Forest:  0.8864628820960698\n"
          ]
        }
      ],
      "source": [
        "# random forest\n",
        "# create a random forestClassifier with an decision tree as the base estimator\n",
        "rfc = RandomForestClassifier(n_estimators=10, max_depth=3, random_state=42)\n",
        "\n",
        "# fit the model to the training data\n",
        "rfc.fit(X_train, y_train)\n",
        "\n",
        "# make predictions on the test data\n",
        "y_pred = rfc.predict(X_test)\n",
        "\n",
        "# evaluate the model's accuracy\n",
        "rfc_accuracy = accuracy_score(y_test, y_pred)\n",
        "print(\"Out-of-sample Accuracy of Random Forest: \", rfc_accuracy)"
      ]
    },
    {
      "cell_type": "code",
      "execution_count": null,
      "id": "bcd9eed3",
      "metadata": {
        "id": "bcd9eed3",
        "outputId": "526cb1c5-fa9b-449e-ba27-31c8d950bfb4"
      },
      "outputs": [
        {
          "data": {
            "image/png": "[encoded data removed]",
            "text/plain": [
              "<Figure size 432x288 with 2 Axes>"
            ]
          },
          "metadata": {
            "needs_background": "light"
          },
          "output_type": "display_data"
        }
      ],
      "source": [
        "y_pred = rfc.predict(X_test)\n",
        "rfc_cm = confusion_matrix(y_test, y_pred, labels=rfc.classes_)\n",
        "disp = ConfusionMatrixDisplay(confusion_matrix=rfc_cm, display_labels=rfc.classes_)\n",
        "disp.plot()\n",
        "plt.show()"
      ]
    },
    {
      "cell_type": "code",
      "execution_count": null,
      "id": "c35ba063",
      "metadata": {
        "id": "c35ba063",
        "outputId": "b71c7612-37b4-436f-fdd1-c46ee5511ac3"
      },
      "outputs": [
        {
          "name": "stdout",
          "output_type": "stream",
          "text": [
            "AUC: 0.602\n"
          ]
        }
      ],
      "source": [
        "# calculate AUC\n",
        "rfc_auc = round(roc_auc_score(y_test, y_pred),3)\n",
        "print('AUC:', rfc_auc)"
      ]
    },
    {
      "cell_type": "code",
      "execution_count": null,
      "id": "c3700d97",
      "metadata": {
        "id": "c3700d97",
        "outputId": "402ebb55-76ab-4546-e8f2-8a77d4fc88e6"
      },
      "outputs": [
        {
          "name": "stdout",
          "output_type": "stream",
          "text": [
            "True Positive Rate: 0.21311475409836064\n",
            "False Positive Rate: 0.010075566750629723\n"
          ]
        }
      ],
      "source": [
        "# Confusion matrix values\n",
        "TP = rfc_cm[1, 1]\n",
        "FP = rfc_cm[0, 1]\n",
        "TN = rfc_cm[0, 0]\n",
        "FN = rfc_cm[1, 0]\n",
        "\n",
        "# Calculate true positive rate (TPR) and false positive rate (FPR)\n",
        "TPR = TP / (TP + FN)\n",
        "FPR = FP / (FP + TN)\n",
        "\n",
        "print(\"True Positive Rate:\", TPR)\n",
        "print(\"False Positive Rate:\", FPR)"
      ]
    },
    {
      "cell_type": "code",
      "execution_count": null,
      "id": "edff81ec",
      "metadata": {
        "id": "edff81ec",
        "outputId": "1170cc66-2b06-4c39-b122-a6b927bf2387"
      },
      "outputs": [
        {
          "data": {
            "text/plain": [
              "9220"
            ]
          },
          "execution_count": 41,
          "metadata": {},
          "output_type": "execute_result"
        }
      ],
      "source": [
        "costbenefit_mat = np.array([[10, -40], [100,50]])\n",
        "rfc_profits = sum(sum(rfc_cm * costbenefit_mat))\n",
        "rfc_profits"
      ]
    },
    {
      "cell_type": "code",
      "execution_count": null,
      "id": "c349214f",
      "metadata": {
        "id": "c349214f",
        "outputId": "e82b1c1f-cac8-466b-adab-1da4a2b965b9"
      },
      "outputs": [
        {
          "data": {
            "image/png": "[encoded data removed]",
            "text/plain": [
              "<Figure size 432x288 with 1 Axes>"
            ]
          },
          "metadata": {
            "needs_background": "light"
          },
          "output_type": "display_data"
        }
      ],
      "source": [
        "# Create a series containing feature importances from the model and feature names from the training data\n",
        "feature_importances = pd.Series(rfc.feature_importances_, index=X_train.columns).sort_values(ascending=False)\n",
        "\n",
        "# Plot a simple bar chart\n",
        "feature_importances.plot.bar();"
      ]
    },
    {
      "cell_type": "markdown",
      "id": "ca9f7b88",
      "metadata": {
        "id": "ca9f7b88"
      },
      "source": [
        "### 4.6 Hyperparameter tuning for RF classification"
      ]
    },
    {
      "cell_type": "code",
      "execution_count": null,
      "id": "9c882165",
      "metadata": {
        "id": "9c882165",
        "outputId": "229a88b1-0565-47e0-a6ad-ea23f22b1659"
      },
      "outputs": [
        {
          "name": "stdout",
          "output_type": "stream",
          "text": [
            "{'bootstrap': [True, False],\n",
            " 'max_depth': [10, 20, 30, 40, 50, 60, 70, 80, 90, 100, None],\n",
            " 'max_features': ['sqrt', 'log2', None],\n",
            " 'min_samples_leaf': [1, 2, 4],\n",
            " 'min_samples_split': [2, 5, 10],\n",
            " 'n_estimators': [100, 311, 522, 733, 944, 1155, 1366, 1577, 1788, 2000]}\n"
          ]
        }
      ],
      "source": [
        "# Number of trees in random forest\n",
        "n_estimators = [int(x) for x in np.linspace(start = 100, stop = 2000, num = 10)]\n",
        "# Number of features to consider at every split\n",
        "max_features = ['sqrt', 'log2',None]\n",
        "# Maximum number of levels in tree\n",
        "max_depth = [int(x) for x in np.linspace(10, 100, num = 10)]\n",
        "max_depth.append(None)\n",
        "# Minimum number of samples required to split a node\n",
        "min_samples_split = [2, 5, 10]\n",
        "# Minimum number of samples required at each leaf node\n",
        "min_samples_leaf = [1, 2, 4]\n",
        "# Method of selecting samples for training each tree\n",
        "bootstrap = [True, False]\n",
        "\n",
        "# Create the random grid\n",
        "random_grid = {'n_estimators': n_estimators,\n",
        "               'max_features': max_features,\n",
        "               'max_depth': max_depth,\n",
        "               'min_samples_split': min_samples_split,\n",
        "               'min_samples_leaf': min_samples_leaf,\n",
        "               'bootstrap': bootstrap}\n",
        "\n",
        "pprint(random_grid)"
      ]
    },
    {
      "cell_type": "code",
      "execution_count": null,
      "id": "c94b2b9e",
      "metadata": {
        "id": "c94b2b9e",
        "outputId": "d022b3ae-524d-4021-bac4-c9bcafc4ed2c"
      },
      "outputs": [
        {
          "name": "stdout",
          "output_type": "stream",
          "text": [
            "Fitting 10 folds for each of 100 candidates, totalling 1000 fits\n"
          ]
        },
        {
          "data": {
            "text/plain": [
              "RandomizedSearchCV(cv=10, estimator=RandomForestClassifier(), n_iter=100,\n",
              "                   n_jobs=-1,\n",
              "                   param_distributions={'bootstrap': [True, False],\n",
              "                                        'max_depth': [10, 20, 30, 40, 50, 60,\n",
              "                                                      70, 80, 90, 100, None],\n",
              "                                        'max_features': ['sqrt', 'log2', None],\n",
              "                                        'min_samples_leaf': [1, 2, 4],\n",
              "                                        'min_samples_split': [2, 5, 10],\n",
              "                                        'n_estimators': [100, 311, 522, 733,\n",
              "                                                         944, 1155, 1366, 1577,\n",
              "                                                         1788, 2000]},\n",
              "                   random_state=42, verbose=2)"
            ]
          },
          "execution_count": 44,
          "metadata": {},
          "output_type": "execute_result"
        }
      ],
      "source": [
        "# Use the random grid to search for best hyperparameters\n",
        "# First create the base model to tune\n",
        "rfc = RandomForestClassifier()\n",
        "\n",
        "# Random search of parameters, using 10 fold cross validation,\n",
        "# search across 100 different combinations, and use all available cores\n",
        "rfc_random = RandomizedSearchCV(estimator = rfc, param_distributions = random_grid, n_iter = 100, cv = 10, verbose=2, random_state=42, n_jobs = -1)\n",
        "# Fit the random search model\n",
        "rfc_random.fit(scale(X_train), y_train)"
      ]
    },
    {
      "cell_type": "code",
      "execution_count": null,
      "id": "138602f6",
      "metadata": {
        "id": "138602f6",
        "outputId": "25fe48a2-88ef-4ba7-9350-6ac7572694bd"
      },
      "outputs": [
        {
          "data": {
            "text/plain": [
              "{'n_estimators': 944,\n",
              " 'min_samples_split': 2,\n",
              " 'min_samples_leaf': 1,\n",
              " 'max_features': 'sqrt',\n",
              " 'max_depth': 90,\n",
              " 'bootstrap': True}"
            ]
          },
          "execution_count": 45,
          "metadata": {},
          "output_type": "execute_result"
        }
      ],
      "source": [
        "rfc_random.best_params_"
      ]
    },
    {
      "cell_type": "markdown",
      "id": "3543a3fc",
      "metadata": {
        "id": "3543a3fc"
      },
      "source": [
        "{'n_estimators': 522,\n",
        " 'min_samples_split': 10,\n",
        " 'min_samples_leaf': 2,\n",
        " 'max_features': 'log2',\n",
        " 'max_depth': 20,\n",
        " 'bootstrap': False}"
      ]
    },
    {
      "cell_type": "code",
      "execution_count": null,
      "id": "cd29500c",
      "metadata": {
        "id": "cd29500c"
      },
      "outputs": [],
      "source": [
        "best_rd = rfc_random.best_estimator_"
      ]
    },
    {
      "cell_type": "code",
      "execution_count": null,
      "id": "7b3c1756",
      "metadata": {
        "id": "7b3c1756"
      },
      "outputs": [],
      "source": [
        "y_pred=best_rd.predict(scale(X_test.values))"
      ]
    },
    {
      "cell_type": "code",
      "execution_count": null,
      "id": "17e23f2b",
      "metadata": {
        "id": "17e23f2b",
        "outputId": "3f3a6f47-c08b-480c-8eec-f1db927303d4"
      },
      "outputs": [
        {
          "name": "stdout",
          "output_type": "stream",
          "text": [
            "Out-of-sample Accuracy of Random Forest:  0.9\n"
          ]
        }
      ],
      "source": [
        "rfca_accuracy = round(accuracy_score(y_test, y_pred),3)\n",
        "\n",
        "print(\"Out-of-sample Accuracy of Random Forest: \", rfca_accuracy)"
      ]
    },
    {
      "cell_type": "code",
      "execution_count": null,
      "id": "238e575d",
      "metadata": {
        "id": "238e575d",
        "outputId": "ca4b1b71-473b-4247-d8f5-61f71ac3f428"
      },
      "outputs": [
        {
          "data": {
            "image/png": "[encoded data removed]",
            "text/plain": [
              "<Figure size 432x288 with 2 Axes>"
            ]
          },
          "metadata": {
            "needs_background": "light"
          },
          "output_type": "display_data"
        }
      ],
      "source": [
        "y_pred =best_rd.predict(scale(X_test.values))\n",
        "rfca_cm = confusion_matrix(y_test, y_pred)\n",
        "\n",
        "# Create a ConfusionMatrixDisplay object and plot the confusion matrix\n",
        "disp = ConfusionMatrixDisplay(confusion_matrix=rfca_cm)\n",
        "disp.plot()\n",
        "\n",
        "# Add axis labels and title\n",
        "plt.xlabel('Predicted Label')\n",
        "plt.ylabel('True Label')\n",
        "#plt.title('Confusion Matrix for RandomForestClassifier Model')\n",
        "\n",
        "# Show the plot\n",
        "plt.show()"
      ]
    },
    {
      "cell_type": "code",
      "execution_count": null,
      "id": "9b79a3c2",
      "metadata": {
        "id": "9b79a3c2",
        "outputId": "6a8472d6-1549-40a2-81f6-1f7ee0daac80"
      },
      "outputs": [
        {
          "name": "stdout",
          "output_type": "stream",
          "text": [
            "True Positive Rate: 0.4262295081967213\n",
            "False Positive Rate: 0.027707808564231738\n"
          ]
        }
      ],
      "source": [
        "# Confusion matrix values\n",
        "TP = rfca_cm[1, 1]\n",
        "FP = rfca_cm[0, 1]\n",
        "TN = rfca_cm[0, 0]\n",
        "FN = rfca_cm[1, 0]\n",
        "\n",
        "# Calculate true positive rate (TPR) and false positive rate (FPR)\n",
        "TPR = TP / (TP + FN)\n",
        "FPR = FP / (FP + TN)\n",
        "\n",
        "print(\"True Positive Rate:\", TPR)\n",
        "print(\"False Positive Rate:\", FPR)"
      ]
    },
    {
      "cell_type": "code",
      "execution_count": null,
      "id": "d156ea21",
      "metadata": {
        "id": "d156ea21",
        "outputId": "3ab1a8ec-1416-482a-9ced-0f68df94cb73"
      },
      "outputs": [
        {
          "name": "stdout",
          "output_type": "stream",
          "text": [
            "AUC: 0.699\n"
          ]
        }
      ],
      "source": [
        "# calculate AUC\n",
        "rfca_auc = round(roc_auc_score(y_test, y_pred),3)\n",
        "print('AUC:', rfca_auc)"
      ]
    },
    {
      "cell_type": "code",
      "execution_count": null,
      "id": "62e9dd1f",
      "metadata": {
        "id": "62e9dd1f",
        "outputId": "d9193f85-e57c-4094-9d48-a8796868f60e"
      },
      "outputs": [
        {
          "data": {
            "text/plain": [
              "8220"
            ]
          },
          "execution_count": 52,
          "metadata": {},
          "output_type": "execute_result"
        }
      ],
      "source": [
        "costbenefit_mat = np.array([[10, -40], [100,50]])\n",
        "[[tn, fp], [fn, tp]] = rfca_cm\n",
        "confusion_mat = np.array([[tp, fp], [fn, tn]])\n",
        "rfca_profits = sum(sum(rfca_cm * costbenefit_mat))\n",
        "rfca_profits"
      ]
    },
    {
      "cell_type": "markdown",
      "id": "00eddc81",
      "metadata": {
        "id": "00eddc81"
      },
      "source": [
        "### 4.7 Adaboost classification"
      ]
    },
    {
      "cell_type": "code",
      "execution_count": null,
      "id": "ad011dfb",
      "metadata": {
        "id": "ad011dfb",
        "outputId": "f48c80e3-b3f4-4e63-8647-b93cdb8b2723"
      },
      "outputs": [
        {
          "name": "stdout",
          "output_type": "stream",
          "text": [
            "Out-of-sample accuracy of Adaboost:  0.876\n"
          ]
        }
      ],
      "source": [
        "# Create a Decision Tree model as the base estimator\n",
        "base_model = DecisionTreeClassifier()\n",
        "\n",
        "# Create an AdaBoost classifier with the Decision Tree model as the base estimator\n",
        "adaboost_model = AdaBoostClassifier(base_estimator=base_model)\n",
        "\n",
        "# Fit the Adaboost classifier to the training data\n",
        "adaboost_model.fit(X_train, y_train)\n",
        "\n",
        "# Evaluate on the test data\n",
        "y_pred = adaboost_model.predict(X_test)\n",
        "adaboost_accuracy = round(accuracy_score(y_test, y_pred), 3)\n",
        "\n",
        "print(\"Out-of-sample accuracy of Adaboost: \", adaboost_accuracy)"
      ]
    },
    {
      "cell_type": "code",
      "execution_count": null,
      "id": "452df6d7",
      "metadata": {
        "id": "452df6d7",
        "outputId": "d2419bed-ab61-4b4a-88e4-eb5d3060a299"
      },
      "outputs": [
        {
          "data": {
            "image/png": "[encoded data removed]",
            "text/plain": [
              "<Figure size 432x288 with 2 Axes>"
            ]
          },
          "metadata": {
            "needs_background": "light"
          },
          "output_type": "display_data"
        }
      ],
      "source": [
        "# Create and display the confusion matrix\n",
        "adaboost_cm  = confusion_matrix(y_test, y_pred)\n",
        "disp = ConfusionMatrixDisplay(confusion_matrix=adaboost_cm, display_labels=adaboost_model.classes_)\n",
        "disp.plot()\n",
        "plt.show()"
      ]
    },
    {
      "cell_type": "code",
      "execution_count": null,
      "id": "80ddd62c",
      "metadata": {
        "id": "80ddd62c",
        "outputId": "d08fa982-833a-4e20-eed1-af10d773ff4e"
      },
      "outputs": [
        {
          "name": "stdout",
          "output_type": "stream",
          "text": [
            "True Positive Rate: 0.6557377049180327\n",
            "False Positive Rate: 0.0906801007556675\n"
          ]
        }
      ],
      "source": [
        "# Confusion matrix values\n",
        "TP = adaboost_cm[1, 1]\n",
        "FP = adaboost_cm[0, 1]\n",
        "TN = adaboost_cm[0, 0]\n",
        "FN = adaboost_cm[1, 0]\n",
        "\n",
        "# Calculate true positive rate (TPR) and false positive rate (FPR)\n",
        "TPR = TP / (TP + FN)\n",
        "FPR = FP / (FP + TN)\n",
        "\n",
        "print(\"True Positive Rate:\", TPR)\n",
        "print(\"False Positive Rate:\", FPR)"
      ]
    },
    {
      "cell_type": "code",
      "execution_count": null,
      "id": "913a323e",
      "metadata": {
        "id": "913a323e",
        "outputId": "f010c044-9276-4612-fcdf-58007ec15cca"
      },
      "outputs": [
        {
          "name": "stdout",
          "output_type": "stream",
          "text": [
            "AUC: 0.783\n"
          ]
        }
      ],
      "source": [
        "# calculate AUC\n",
        "adaboost_auc = round(roc_auc_score(y_test, y_pred),3)\n",
        "print('AUC:', adaboost_auc)"
      ]
    },
    {
      "cell_type": "code",
      "execution_count": null,
      "id": "e78adcd7",
      "metadata": {
        "id": "e78adcd7",
        "outputId": "596e2981-fe0f-4df9-c685-887da33c4d71"
      },
      "outputs": [
        {
          "data": {
            "text/plain": [
              "6270"
            ]
          },
          "execution_count": 57,
          "metadata": {},
          "output_type": "execute_result"
        }
      ],
      "source": [
        "costbenefit_mat = np.array([[10, -40], [100,50]])\n",
        "[[tn, fp], [fn, tp]] = adaboost_cm\n",
        "confusion_mat = np.array([[tp, fp], [fn, tn]])\n",
        "adaboost_profits = sum(sum(adaboost_cm * costbenefit_mat))\n",
        "adaboost_profits"
      ]
    },
    {
      "cell_type": "markdown",
      "id": "07dac559",
      "metadata": {
        "id": "07dac559"
      },
      "source": [
        "## Define business profit for each cell:\n",
        "\n",
        "Before the machine learning model, we can only buy wine at a fixed price for 75 for all wine.\n",
        "With improved method, we can use prediction to import high qulaity wine as 100, and low quality 50.\n",
        "Also, we sell wine as 150 for good wine but 60 for bad wine.\n",
        "\n",
        "For each type of wine predicted, we have the profits as below:\n",
        "    \n",
        "    TP = 150-100=50\n",
        "    FP = 60-100=-40\n",
        "    TN = 60-50=10\n",
        "    FN = 150-50=100"
      ]
    },
    {
      "cell_type": "code",
      "execution_count": null,
      "id": "2cbc531e",
      "metadata": {
        "id": "2cbc531e"
      },
      "outputs": [],
      "source": [
        "costbenefit_mat = np.array([[10, -40], [100,50]])\n",
        "knn_cost = sum(sum(knn_cm * costbenefit_mat))"
      ]
    },
    {
      "cell_type": "markdown",
      "id": "0272bf74",
      "metadata": {
        "id": "0272bf74"
      },
      "source": [
        "## 5. Evaluation"
      ]
    },
    {
      "cell_type": "code",
      "execution_count": null,
      "id": "8412fa24",
      "metadata": {
        "id": "8412fa24",
        "outputId": "fd88c8c6-7a4d-4c03-f457-2a41fa6d7d62"
      },
      "outputs": [
        {
          "data": {
            "text/html": [
              "<div>\n",
              "<style scoped>\n",
              "    .dataframe tbody tr th:only-of-type {\n",
              "        vertical-align: middle;\n",
              "    }\n",
              "\n",
              "    .dataframe tbody tr th {\n",
              "        vertical-align: top;\n",
              "    }\n",
              "\n",
              "    .dataframe thead th {\n",
              "        text-align: right;\n",
              "    }\n",
              "</style>\n",
              "<table border=\"1\" class=\"dataframe\">\n",
              "  <thead>\n",
              "    <tr style=\"text-align: right;\">\n",
              "      <th></th>\n",
              "      <th>Model</th>\n",
              "      <th>Accuracy</th>\n",
              "      <th>AUC</th>\n",
              "      <th>Expected Profits</th>\n",
              "      <th>Hyperparameters</th>\n",
              "    </tr>\n",
              "  </thead>\n",
              "  <tbody>\n",
              "    <tr>\n",
              "      <th>0</th>\n",
              "      <td>SVC</td>\n",
              "      <td>0.867</td>\n",
              "      <td>0.500</td>\n",
              "      <td>10070</td>\n",
              "      <td>N/A</td>\n",
              "    </tr>\n",
              "    <tr>\n",
              "      <th>1</th>\n",
              "      <td>Logistic Regression</td>\n",
              "      <td>0.867</td>\n",
              "      <td>0.612</td>\n",
              "      <td>8870</td>\n",
              "      <td>N/A</td>\n",
              "    </tr>\n",
              "    <tr>\n",
              "      <th>2</th>\n",
              "      <td>KNN</td>\n",
              "      <td>0.865</td>\n",
              "      <td>0.551</td>\n",
              "      <td>9470</td>\n",
              "      <td>k=11</td>\n",
              "    </tr>\n",
              "    <tr>\n",
              "      <th>3</th>\n",
              "      <td>Decision Tree</td>\n",
              "      <td>0.876</td>\n",
              "      <td>0.720</td>\n",
              "      <td>7170</td>\n",
              "      <td>max_depth=3</td>\n",
              "    </tr>\n",
              "    <tr>\n",
              "      <th>4</th>\n",
              "      <td>Random Forest</td>\n",
              "      <td>0.886</td>\n",
              "      <td>0.602</td>\n",
              "      <td>9220</td>\n",
              "      <td>N/A</td>\n",
              "    </tr>\n",
              "    <tr>\n",
              "      <th>5</th>\n",
              "      <td>Random Forest with tunning</td>\n",
              "      <td>0.900</td>\n",
              "      <td>0.699</td>\n",
              "      <td>8220</td>\n",
              "      <td>n_estimators: 944, max_depth: 90</td>\n",
              "    </tr>\n",
              "    <tr>\n",
              "      <th>6</th>\n",
              "      <td>AdaBoost</td>\n",
              "      <td>0.876</td>\n",
              "      <td>0.783</td>\n",
              "      <td>6270</td>\n",
              "      <td>N/A</td>\n",
              "    </tr>\n",
              "  </tbody>\n",
              "</table>\n",
              "</div>"
            ],
            "text/plain": [
              "                         Model  Accuracy    AUC  Expected Profits  \\\n",
              "0                          SVC     0.867  0.500             10070   \n",
              "1          Logistic Regression     0.867  0.612              8870   \n",
              "2                          KNN     0.865  0.551              9470   \n",
              "3                Decision Tree     0.876  0.720              7170   \n",
              "4                Random Forest     0.886  0.602              9220   \n",
              "5  Random Forest with tunning      0.900  0.699              8220   \n",
              "6                     AdaBoost     0.876  0.783              6270   \n",
              "\n",
              "                    Hyperparameters  \n",
              "0                               N/A  \n",
              "1                               N/A  \n",
              "2                              k=11  \n",
              "3                       max_depth=3  \n",
              "4                               N/A  \n",
              "5  n_estimators: 944, max_depth: 90  \n",
              "6                               N/A  "
            ]
          },
          "execution_count": 59,
          "metadata": {},
          "output_type": "execute_result"
        }
      ],
      "source": [
        "# Define data\n",
        "model_names = ['SVC', 'Logistic Regression', 'KNN', 'Decision Tree', 'Random Forest','Random Forest with tunning ', 'AdaBoost']\n",
        "accuracy_values = [svc_accuracy, logit_accuracy, knn_accuracy, dtc_accuracy, rfc_accuracy, rfca_accuracy, adaboost_accuracy]\n",
        "auc_values = [svc_auc, logit_auc, knn_auc, dtc_auc, rfc_auc, rfca_auc, adaboost_auc]\n",
        "profits_values = [svc_profits, logit_profits, knn_profits, dtc_profits, rfc_profits, rfca_profits, adaboost_profits]\n",
        "hyperparameters = ['N/A','N/A','k=11','max_depth=3', 'N/A','n_estimators: 944, max_depth: 90', 'N/A']\n",
        "\n",
        "# Round accuracy values to 3 decimal places using list comprehension\n",
        "accuracy_values_rounded = [round(x, 3) for x in accuracy_values]\n",
        "auc_values_rounded = [round(x, 3) for x in auc_values]\n",
        "\n",
        "# Create table\n",
        "df = pd.DataFrame({\n",
        "    'Model': model_names,\n",
        "    'Accuracy': accuracy_values_rounded,\n",
        "    'AUC': auc_values_rounded,\n",
        "    'Expected Profits': profits_values,\n",
        "    'Hyperparameters': hyperparameters\n",
        "})\n",
        "\n",
        "# Print table\n",
        "df"
      ]
    },
    {
      "cell_type": "markdown",
      "id": "8803effb",
      "metadata": {
        "id": "8803effb"
      },
      "source": [
        "## 6. Business value considering the class prior"
      ]
    },
    {
      "cell_type": "markdown",
      "id": "29866f07",
      "metadata": {
        "id": "29866f07"
      },
      "source": [
        "### 6.1 Get Profit Curve of RF with different true positive rate"
      ]
    },
    {
      "cell_type": "code",
      "execution_count": null,
      "id": "20fddb04",
      "metadata": {
        "id": "20fddb04",
        "outputId": "df0b0613-b1d0-4d9f-edaa-62bf9c7f5229"
      },
      "outputs": [
        {
          "data": {
            "image/png": "[encoded data removed]",
            "text/plain": [
              "<Figure size 432x288 with 1 Axes>"
            ]
          },
          "metadata": {
            "needs_background": "light"
          },
          "output_type": "display_data"
        }
      ],
      "source": [
        "# expected profits for RF classifier\n",
        "class_prior_positive_rate = np.arange(0, 1.0, 0.01)\n",
        "confusion_matrices = []\n",
        "profits_ml = []\n",
        "for rate in class_prior_positive_rate:\n",
        "    tn = (1-rate) * 485 * (397/408) #𝑝(n)× 𝑝(N│n)\n",
        "    fp = (1-rate) * 485 * (11/408) #𝑝(n)× 𝑝(𝑌│n)\n",
        "    fn = rate * 485 * (37/40) #𝑝(𝑝)× 𝑝(N│𝑝)\n",
        "    tp = rate * 485 * (13/40) #𝑝(𝑝)× 𝑝(𝑌│𝑝)\n",
        "    confusion_matrices.append([[tn, fp], [fn, tp]])\n",
        "\n",
        "confusion_matrices = np.array(confusion_matrices)\n",
        "costbenefit_mat = np.array([[10, -40], [100,50]])\n",
        "\n",
        "for i in range(len(confusion_matrices)):\n",
        "    profits  = np.sum(confusion_matrices[i] * costbenefit_mat)\n",
        "    profits_ml .append(profits)\n",
        "\n",
        "# Plot true positive rate against expected profits\n",
        "plt.plot(class_prior_positive_rate, profits_ml, label = 'Classifier')\n",
        "plt.xlabel('True Positive Rate in the Class Prior')\n",
        "plt.ylabel('Expected Profits')\n",
        "plt.title('Profit vs. True Positive the ML Model')\n",
        "plt.legend(loc='lower right')\n",
        "plt.show()\n"
      ]
    },
    {
      "cell_type": "markdown",
      "id": "f22eecc6",
      "metadata": {
        "id": "f22eecc6"
      },
      "source": [
        "### 6.2 Get Profit Curve of non-ML model with different true positive rate"
      ]
    },
    {
      "cell_type": "code",
      "execution_count": null,
      "id": "bd788abe",
      "metadata": {
        "id": "bd788abe",
        "outputId": "60021069-c7fd-4bcc-9126-1d33749bce84"
      },
      "outputs": [
        {
          "data": {
            "image/png": "[encoded data removed]",
            "text/plain": [
              "<Figure size 432x288 with 1 Axes>"
            ]
          },
          "metadata": {
            "needs_background": "light"
          },
          "output_type": "display_data"
        }
      ],
      "source": [
        "# expected profits without classifier\n",
        "class_prior_positive_rate = np.arange(0, 1.0, 0.01)\n",
        "confusion_matrices = []\n",
        "profits_nonml = []\n",
        "for rate in class_prior_positive_rate:\n",
        "    tn = (1-rate) * 485 #𝑝(n)\n",
        "    tp = rate * 485    #𝑝(p)\n",
        "    confusion_matrices.append([[tn, tp]])\n",
        "\n",
        "confusion_matrices = np.array(confusion_matrices)\n",
        "costbenefit_mat = np.array([[-15, 75]])\n",
        "\n",
        "for i in range(len(confusion_matrices)):\n",
        "    profit = np.sum(confusion_matrices[i] * costbenefit_mat)\n",
        "    profits_nonml.append(profit)\n",
        "\n",
        "# Plot true positive rate against expected profits\n",
        "plt.plot(class_prior_positive_rate, profits_nonml, label = 'No Classifier')\n",
        "plt.xlabel('True Positive Rate in the Class Prior')\n",
        "plt.ylabel('Expected Profits')\n",
        "plt.title('Profit vs. True Positive with non-ML Model')\n",
        "plt.legend(loc='lower right')\n",
        "plt.show()"
      ]
    },
    {
      "cell_type": "markdown",
      "id": "d07e5db9",
      "metadata": {
        "id": "d07e5db9"
      },
      "source": [
        "### 6.3 Combined two profits curve above with a reference line"
      ]
    },
    {
      "cell_type": "code",
      "execution_count": null,
      "id": "ba9b5333",
      "metadata": {
        "id": "ba9b5333",
        "outputId": "9e27d04f-925a-4fec-dea7-7cb4ec83e5f8"
      },
      "outputs": [
        {
          "data": {
            "image/png": "[encoded data removed]",
            "text/plain": [
              "<Figure size 432x288 with 1 Axes>"
            ]
          },
          "metadata": {
            "needs_background": "light"
          },
          "output_type": "display_data"
        },
        {
          "name": "stdout",
          "output_type": "stream",
          "text": [
            "The breakeven point for the two methods is when true positive rate = -2.342\n",
            "RF Classifier Trend Line: y = 48547.55x + 4196.20\n",
            "No Classifier Trend Line: y = 43650.00x + -7275.00\n",
            "x=True Positive Rate in the Class Prior\n"
          ]
        }
      ],
      "source": [
        "# Plot both classifiers in the same graph\n",
        "plt.plot(class_prior_positive_rate, profits_ml, label = 'RF Classifier')\n",
        "plt.plot(class_prior_positive_rate, profits_nonml, label = 'Without Classifier')\n",
        "plt.xlabel('True Positive Rate in the Class Prior')\n",
        "plt.ylabel('Expected Profits')\n",
        "plt.title('Profit vs. True Positive Rate')\n",
        "plt.legend(loc='lower right')\n",
        "plt.show()\n",
        "\n",
        "\n",
        "# Define the coefficients for the two regression equations\n",
        "a = np.polyfit(class_prior_positive_rate, profits_ml, 1)[0]\n",
        "b = np.polyfit(class_prior_positive_rate, profits_ml, 1)[1]\n",
        "c = np.polyfit(class_prior_positive_rate, profits_nonml, 1)[0]\n",
        "d = np.polyfit(class_prior_positive_rate, profits_nonml, 1)[1]\n",
        "\n",
        "# Define the two regression equations\n",
        "eq1 = a * class_prior_positive_rate + b #trend line for the RF classifier\n",
        "eq2 = c * class_prior_positive_rate + d #trend line without the classifier\n",
        "\n",
        "# Find the value of x for which the two equations are equal\n",
        "x = (d - b) / (a - c)\n",
        "\n",
        "print(\"The breakeven point for the two methods is when true positive rate =\", round(x,3))\n",
        "print(f\"RF Classifier Trend Line: y = {a:.2f}x + {b:.2f}\")\n",
        "print(f\"No Classifier Trend Line: y = {c:.2f}x + {d:.2f}\")\n",
        "print(\"x=True Positive Rate in the Class Prior\")"
      ]
    },
    {
      "cell_type": "code",
      "execution_count": null,
      "id": "8cdab3c0",
      "metadata": {
        "id": "8cdab3c0"
      },
      "outputs": [],
      "source": []
    }
  ],
  "metadata": {
    "kernelspec": {
      "display_name": "Python 3 (ipykernel)",
      "language": "python",
      "name": "python3"
    },
    "language_info": {
      "codemirror_mode": {
        "name": "ipython",
        "version": 3
      },
      "file_extension": ".py",
      "mimetype": "text/x-python",
      "name": "python",
      "nbconvert_exporter": "python",
      "pygments_lexer": "ipython3",
      "version": "3.9.12"
    },
    "colab": {
      "provenance": [],
      "include_colab_link": true
    }
  },
  "nbformat": 4,
  "nbformat_minor": 5
}